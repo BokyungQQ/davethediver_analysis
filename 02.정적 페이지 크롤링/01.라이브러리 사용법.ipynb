{
 "cells": [
  {
   "cell_type": "code",
   "execution_count": 1,
   "metadata": {},
   "outputs": [
    {
     "name": "stdout",
     "output_type": "stream",
     "text": [
      "Requirement already satisfied: requests in c:\\users\\kimbokyung\\anaconda3\\lib\\site-packages (2.31.0)Note: you may need to restart the kernel to use updated packages.\n",
      "\n",
      "Requirement already satisfied: charset-normalizer<4,>=2 in c:\\users\\kimbokyung\\anaconda3\\lib\\site-packages (from requests) (2.0.4)\n",
      "Requirement already satisfied: idna<4,>=2.5 in c:\\users\\kimbokyung\\anaconda3\\lib\\site-packages (from requests) (3.4)\n",
      "Requirement already satisfied: urllib3<3,>=1.21.1 in c:\\users\\kimbokyung\\anaconda3\\lib\\site-packages (from requests) (1.26.16)\n",
      "Requirement already satisfied: certifi>=2017.4.17 in c:\\users\\kimbokyung\\anaconda3\\lib\\site-packages (from requests) (2023.7.22)\n"
     ]
    }
   ],
   "source": [
    "pip install requests"
   ]
  },
  {
   "cell_type": "code",
   "execution_count": 2,
   "metadata": {},
   "outputs": [
    {
     "name": "stdout",
     "output_type": "stream",
     "text": [
      "Collecting bs4\n",
      "  Obtaining dependency information for bs4 from https://files.pythonhosted.org/packages/51/bb/bf7aab772a159614954d84aa832c129624ba6c32faa559dfb200a534e50b/bs4-0.0.2-py2.py3-none-any.whl.metadata\n",
      "  Downloading bs4-0.0.2-py2.py3-none-any.whl.metadata (411 bytes)\n",
      "Requirement already satisfied: beautifulsoup4 in c:\\users\\kimbokyung\\anaconda3\\lib\\site-packages (from bs4) (4.12.2)\n",
      "Requirement already satisfied: soupsieve>1.2 in c:\\users\\kimbokyung\\anaconda3\\lib\\site-packages (from beautifulsoup4->bs4) (2.4)\n",
      "Downloading bs4-0.0.2-py2.py3-none-any.whl (1.2 kB)\n",
      "Installing collected packages: bs4\n",
      "Successfully installed bs4-0.0.2\n",
      "Note: you may need to restart the kernel to use updated packages.\n"
     ]
    }
   ],
   "source": [
    "pip install bs4"
   ]
  },
  {
   "cell_type": "code",
   "execution_count": 4,
   "metadata": {},
   "outputs": [
    {
     "data": {
      "text/plain": [
       "200"
      ]
     },
     "execution_count": 4,
     "metadata": {},
     "output_type": "execute_result"
    }
   ],
   "source": [
    "import requests\n",
    "response = requests.get('https://gall.dcinside.com/mgallery/board/lists/?id=davethediver')\n",
    "response.status_code # 응답의 상태 코드로 200이면 통신 원활\n",
    "https://gall.dcinside.com/mgallery/board/lists/?id=davethediver&page=294"
   ]
  },
  {
   "cell_type": "code",
   "execution_count": 2,
   "metadata": {},
   "outputs": [],
   "source": [
    "import requests\n",
    "from bs4 import BeautifulSoup"
   ]
  },
  {
   "cell_type": "code",
   "execution_count": 4,
   "metadata": {},
   "outputs": [],
   "source": [
    "url = \"https://gall.dcinside.com/mgallery/board/lists\"\n",
    "params = {'id' : 'davethediver'}\n",
    "headers = {'User-Agent' : \"\"}\n",
    "\n",
    "webpage = requests.get(url, params=params, headers=headers)"
   ]
  },
  {
   "cell_type": "code",
   "execution_count": 10,
   "metadata": {},
   "outputs": [],
   "source": [
    "url = \"https://gall.dcinside.com/mgallery/board/lists/?id=davethediver&page={i}\"\n",
    "params = {'id' : 'davethediver'}\n",
    "headers = {'User-Agent' : \"\"}\n",
    "webpage = requests.get(url, params=params, headers=headers)"
   ]
  },
  {
   "cell_type": "code",
   "execution_count": 13,
   "metadata": {},
   "outputs": [
    {
     "ename": "NameError",
     "evalue": "name 'nickname' is not defined",
     "output_type": "error",
     "traceback": [
      "\u001b[1;31m---------------------------------------------------------------------------\u001b[0m",
      "\u001b[1;31mNameError\u001b[0m                                 Traceback (most recent call last)",
      "Cell \u001b[1;32mIn[13], line 21\u001b[0m\n\u001b[0;32m     19\u001b[0m refresh \u001b[39m=\u001b[39m i\u001b[39m.\u001b[39mselect(\u001b[39m\"\u001b[39m\u001b[39m.gall_count\u001b[39m\u001b[39m\"\u001b[39m)[\u001b[39m0\u001b[39m]\u001b[39m.\u001b[39mtext \u001b[39m#조회수\u001b[39;00m\n\u001b[0;32m     20\u001b[0m recommend \u001b[39m=\u001b[39m i\u001b[39m.\u001b[39mselect(\u001b[39m\"\u001b[39m\u001b[39m.gall_recommend\u001b[39m\u001b[39m\"\u001b[39m)[\u001b[39m0\u001b[39m]\u001b[39m.\u001b[39mtext \u001b[39m#추천\u001b[39;00m\n\u001b[1;32m---> 21\u001b[0m \u001b[39mprint\u001b[39m(num, title, reply, nickname, timestamp, refresh, recommend)\n",
      "\u001b[1;31mNameError\u001b[0m: name 'nickname' is not defined"
     ]
    }
   ],
   "source": [
    "for i in range (288,294) :\n",
    "    url = \"https://gall.dcinside.com/mgallery/board/lists/?id=davethediver&page={i}\"\n",
    "    params = {'id' : 'davethediver'}\n",
    "    headers = {'User-Agent' : \"\"}\n",
    "    webpage = requests.get(url, params=params, headers=headers)\n",
    "    \n",
    "    soup = BeautifulSoup(webpage.content, \"lxml\")\n",
    "    article = soup.select(\".us-post\")\n",
    "    \n",
    "    for i in article :\n",
    "        num = i.select(\".gall_num\")[0].text #게시글 번호\n",
    "        title = i.select(\".ub-word > a\")[0].text #게시글 제목\n",
    "        reply = i.select(\".ub-word > a.reply_numbox > .reply_num\") #게시글 댓글 갯수\n",
    "    if reply:\n",
    "        reply = reply[0].text\n",
    "    else:\n",
    "        reply = \"\"\n",
    "    timestamp = i.select(\".gall_date\")[0].text #시간\n",
    "    refresh = i.select(\".gall_count\")[0].text #조회수\n",
    "    recommend = i.select(\".gall_recommend\")[0].text #추천\n",
    "    print(num, title, reply, nickname, timestamp, refresh, recommend)"
   ]
  },
  {
   "cell_type": "code",
   "execution_count": 10,
   "metadata": {},
   "outputs": [],
   "source": [
    "soup = BeautifulSoup(webpage.content, \"lxml\")\n",
    "article = soup.select(\".us-post\")"
   ]
  },
  {
   "cell_type": "code",
   "execution_count": 5,
   "metadata": {},
   "outputs": [
    {
     "ename": "NameError",
     "evalue": "name 'article' is not defined",
     "output_type": "error",
     "traceback": [
      "\u001b[1;31m---------------------------------------------------------------------------\u001b[0m",
      "\u001b[1;31mNameError\u001b[0m                                 Traceback (most recent call last)",
      "Cell \u001b[1;32mIn[5], line 1\u001b[0m\n\u001b[1;32m----> 1\u001b[0m \u001b[39mfor\u001b[39;00m i \u001b[39min\u001b[39;00m article :\n\u001b[0;32m      2\u001b[0m     link \u001b[39m=\u001b[39m \u001b[39m\"\u001b[39m\u001b[39mhttps://gall.dcinside.com/\u001b[39m\u001b[39m\"\u001b[39m \u001b[39m+\u001b[39m i\u001b[39m.\u001b[39mselect(\u001b[39m\"\u001b[39m\u001b[39ma\u001b[39m\u001b[39m\"\u001b[39m)[\u001b[39m0\u001b[39m][\u001b[39m'\u001b[39m\u001b[39mhref\u001b[39m\u001b[39m'\u001b[39m]\u001b[39m.\u001b[39mstrip() \u001b[39m#웹사이트 링크\u001b[39;00m\n\u001b[0;32m      3\u001b[0m     num \u001b[39m=\u001b[39m i\u001b[39m.\u001b[39mselect(\u001b[39m\"\u001b[39m\u001b[39m.gall_num\u001b[39m\u001b[39m\"\u001b[39m)[\u001b[39m0\u001b[39m]\u001b[39m.\u001b[39mtext \u001b[39m#게시글 번호\u001b[39;00m\n",
      "\u001b[1;31mNameError\u001b[0m: name 'article' is not defined"
     ]
    }
   ],
   "source": [
    "for i in article :\n",
    "    link = \"https://gall.dcinside.com/\" + i.select(\"a\")[0]['href'].strip() #웹사이트 링크\n",
    "    num = i.select(\".gall_num\")[0].text #게시글 번호\n",
    "    title = i.select(\".ub-word > a\")[0].text #게시글 제목\n",
    "    reply = i.select(\".ub-word > a.reply_numbox > .reply_num\") #게시글 댓글 갯수\n",
    "    if reply:\n",
    "        reply = reply[0].text\n",
    "    else:\n",
    "        reply = \"\"\n",
    "    timestamp = i.select(\".gall_date\")[0].text #시간\n",
    "    refresh = i.select(\".gall_count\")[0].text #조회수\n",
    "    recommend = i.select(\".gall_recommend\")[0].text #추천\n",
    "    print(link, num, title, reply, nickname, timestamp, refresh, recommend)"
   ]
  }
 ],
 "metadata": {
  "kernelspec": {
   "display_name": "Python 3",
   "language": "python",
   "name": "python3"
  },
  "language_info": {
   "codemirror_mode": {
    "name": "ipython",
    "version": 3
   },
   "file_extension": ".py",
   "mimetype": "text/x-python",
   "name": "python",
   "nbconvert_exporter": "python",
   "pygments_lexer": "ipython3",
   "version": "3.11.4"
  },
  "orig_nbformat": 4
 },
 "nbformat": 4,
 "nbformat_minor": 2
}
