{
 "cells": [
  {
   "cell_type": "code",
   "execution_count": 1,
   "metadata": {},
   "outputs": [],
   "source": [
    "import csv\n",
    "import requests\n",
    "from bs4 import BeautifulSoup"
   ]
  },
  {
   "cell_type": "code",
   "execution_count": 2,
   "metadata": {},
   "outputs": [],
   "source": [
    "# 크롤링 데이터를 csv 파일로 저장\n",
    "with open('데이브더다이버갤러리크롤링.csv', 'w', newline='', encoding='utf-8') as csvfile:\n",
    "    csvwriter = csv.writer(csvfile)\n",
    "    \n",
    "    # Write header row\n",
    "    csvwriter.writerow(['글번호', '제목', '댓글 개수', '작성일자', '조회수', '추천'])\n",
    "\n",
    "    for i in range(288, 295):\n",
    "        url = f\"https://gall.dcinside.com/mgallery/board/lists/?id=davethediver&page={i}\"\n",
    "        params = {'id': 'davethediver'}\n",
    "        headers = {'User-Agent': \"\"}\n",
    "        webpage = requests.get(url, params=params, headers=headers)\n",
    "\n",
    "        soup = BeautifulSoup(webpage.content, \"lxml\")\n",
    "        article = soup.select(\".us-post\")\n",
    "\n",
    "        for item in article:\n",
    "            num = item.select(\".gall_num\")[0].text\n",
    "            title = item.select(\".ub-word > a\")[0].text\n",
    "            reply = item.select(\".ub-word > a.reply_numbox > .reply_num\")\n",
    "            reply_count = reply[0].text if reply else \"\"\n",
    "            timestamp = item.select(\".gall_date\")[0].text\n",
    "            refresh = item.select(\".gall_count\")[0].text\n",
    "            recommend = item.select(\".gall_recommend\")[0].text\n",
    "\n",
    "            csvwriter.writerow([num, title, reply_count, timestamp, refresh, recommend])\n"
   ]
  }
 ],
 "metadata": {
  "kernelspec": {
   "display_name": "base",
   "language": "python",
   "name": "python3"
  },
  "language_info": {
   "codemirror_mode": {
    "name": "ipython",
    "version": 3
   },
   "file_extension": ".py",
   "mimetype": "text/x-python",
   "name": "python",
   "nbconvert_exporter": "python",
   "pygments_lexer": "ipython3",
   "version": "3.11.4"
  }
 },
 "nbformat": 4,
 "nbformat_minor": 2
}
